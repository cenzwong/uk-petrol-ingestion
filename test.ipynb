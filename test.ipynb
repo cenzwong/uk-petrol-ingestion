{
 "cells": [
  {
   "cell_type": "code",
   "execution_count": 1,
   "id": "c35324d1",
   "metadata": {},
   "outputs": [],
   "source": [
    "import requests"
   ]
  },
  {
   "cell_type": "code",
   "execution_count": 7,
   "id": "6ea95c12",
   "metadata": {},
   "outputs": [
    {
     "data": {
      "text/plain": [
       "'16/04/2025 00:00:00'"
      ]
     },
     "execution_count": 7,
     "metadata": {},
     "output_type": "execute_result"
    }
   ],
   "source": [
    "url = \"https://www.shell.co.uk/fuel-prices-data.html\"\n",
    "response = requests.get(url)\n",
    "response.json()[\"last_updated\"]\n"
   ]
  },
  {
   "cell_type": "code",
   "execution_count": 26,
   "id": "2cd276e4",
   "metadata": {},
   "outputs": [
    {
     "data": {
      "text/plain": [
       "'16/04/2025 11:18:43'"
      ]
     },
     "execution_count": 26,
     "metadata": {},
     "output_type": "execute_result"
    }
   ],
   "source": [
    "import requests\n",
    "\n",
    "headers = {\n",
    "  \"Accept\": \"text/html,application/xhtml+xml,application/xml;q=0.9,image/avif,image/webp,image/apng,*/*;q=0.8,application/signed-exchange;v=b3;q=0.7\",\n",
    "  \"Accept-Encoding\": \"gzip, deflate, br, zstd\",\n",
    "  \"Accept-Language\": \"en-GB,en;q=0.9\",\n",
    "  \"Priority\": \"u=0, i\",\n",
    "  \"Sec-CH-UA\": \"\\\"Microsoft Edge\\\";v=\\\"135\\\", \\\"Not-A.Brand\\\";v=\\\"8\\\", \\\"Chromium\\\";v=\\\"135\\\"\",\n",
    "  \"Sec-CH-UA-Mobile\": \"?0\",\n",
    "  \"Sec-CH-UA-Platform\": \"\\\"macOS\\\"\",\n",
    "  \"Sec-Fetch-Dest\": \"document\",\n",
    "  \"Sec-Fetch-Mode\": \"navigate\",\n",
    "  \"Sec-Fetch-Site\": \"none\",\n",
    "  \"Sec-Fetch-User\": \"?1\",\n",
    "  \"Upgrade-Insecure-Requests\": \"1\",\n",
    "  \"User-Agent\": \"Mozilla/5.0 (Macintosh; Intel Mac OS X 10_15_7) AppleWebKit/537.36 (KHTML, like Gecko) Chrome/135.0.0.0 Safari/537.36 Edg/135.0.0.0\"\n",
    "}\n",
    "\n",
    "response = requests.get(url, headers = headers)\n",
    "response.json()[\"last_updated\"]\n"
   ]
  },
  {
   "cell_type": "code",
   "execution_count": 28,
   "id": "cae43bb3",
   "metadata": {},
   "outputs": [
    {
     "data": {
      "text/plain": [
       "'16/04/2025 02:00:19'"
      ]
     },
     "execution_count": 28,
     "metadata": {},
     "output_type": "execute_result"
    }
   ],
   "source": [
    "url = \"https://api.sainsburys.co.uk/v1/exports/latest/fuel_prices_data.json\"\n",
    "response = requests.get(url)\n",
    "response.json()[\"last_updated\"]\n"
   ]
  },
  {
   "cell_type": "code",
   "execution_count": null,
   "id": "b57d7655",
   "metadata": {},
   "outputs": [],
   "source": []
  }
 ],
 "metadata": {
  "kernelspec": {
   "display_name": "Python 3",
   "language": "python",
   "name": "python3"
  },
  "language_info": {
   "codemirror_mode": {
    "name": "ipython",
    "version": 3
   },
   "file_extension": ".py",
   "mimetype": "text/x-python",
   "name": "python",
   "nbconvert_exporter": "python",
   "pygments_lexer": "ipython3",
   "version": "3.12.1"
  }
 },
 "nbformat": 4,
 "nbformat_minor": 5
}
